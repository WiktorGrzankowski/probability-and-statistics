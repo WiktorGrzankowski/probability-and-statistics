import numpy as np
import scipy.stats
# Rows: women, men
# Columns: PiS, PO, Kukiz, Nowoczesna, Lewica, PSL, Razem, KORWiN
#data = np.array([ [39.7,26.4,7.5,7.1,6.6,5.0,4.2,2.8], 
#                  [38.5,20.3,10.6,7.1,6.6,5.4,3.5,7.1]])
data = np.array([[ 17508, 11642,  3308,  3131,  2911,  2205,  1852, 1235],
 [ 17672,  9318,  4865,  3259,  3029,  2479,  1606, 3259]])

GENDER_COUNT = 2 # debatable
PARTIES_COUNT = 8
ALPHA = 0.05

# since KORWiN is represented in the last column, we can easily skip them by decrementing parties_count
def calc_k(parties_count):
    rows_sum = [sum(data[x][:parties_count]) for x in range(GENDER_COUNT)]
    columns_sum = [sum(data[x][y] for x in range(GENDER_COUNT)) for y in range(parties_count)]
    N = sum(rows_sum)
    # calculate k = \sum_{i=1}^{GENDER_COUNT}\sum_{j=1}^{PARTIES_COUNT}(what we have - expected)^2/(expected)
    # where expected = row_sum * column_sum / N for a given cell and what we have is the actuall poll result
    k = 0
    for x in range(GENDER_COUNT):
        for y in range(parties_count):
            expected = rows_sum[x] * columns_sum[y] / N
            k += ((data[x][y] - expected)**2) / expected
    return k

# number of degrees of freedom is (rows_cnt - 1) * (columns_cnt - 1)
print("Our null hypothesis is that gender has an effect on a voters' preferences.")
print("Should we accept it or not?")
print("Without rejecting KORWiN party:")
if 1 - scipy.stats.chi2.cdf(calc_k(PARTIES_COUNT), (GENDER_COUNT - 1) * (PARTIES_COUNT - 1)) > ALPHA:
    print("We have reasons to reject the null hypothesis")
else:
    print("We have reasons to accept the null hypothesis")
    
print("Having rejected KORWiN party, which seems to be quite an obvious offender: ")
if 1 - scipy.stats.chi2.cdf(calc_k(PARTIES_COUNT - 1), (GENDER_COUNT - 1) * (PARTIES_COUNT - 2)) > ALPHA:
    print("We have reasons to reject the null hypothesis")
else:
    print("We have reasons to accept the null hypothesis")
