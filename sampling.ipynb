%%time

import math
import numpy as np
import pandas as pd
import matplotlib.pyplot as plt

%matplotlib inline


#%%

import random

sample_amount = 100000
births_data = np.loadtxt('../lab1/us_births_69_88.csv', skiprows=1, delimiter=',', dtype=int)


# probkowanie
def sampling(counts):
    max_count = np.max(counts)
    day = np.random.randint(0, size - 1, size + 1)
    count = np.random.randint(1, max_count, size + 1)
    return day[count < counts[day]]

def repetition_index(size):
    s = set()
    sample = sampling(births_data[:, 2])
    
    for k in range(size + 2):
        day = sample[k]
        if day in s:
            return k + 1
        else:
            s.add(day)

      
            
#%%

size = births_data.shape[0]
sample_results = [repetition_index(size) for ind in range(sample_amount)]
#%%

plt.figure(figsize=(13, 8))
plt.hist(sample_results, bins=range(1, 101))
plt.show()

# numpy version
values, counts = np.unique(sample_results, return_counts=True)
k_counts_numpy = values[np.argsort(counts)][::-1]



print('First 3 most likely values are {}'.format(k_counts_numpy[:3]))

print('Average value: {}'.format(float(sum(sample_results)) / len(sample_results)))
