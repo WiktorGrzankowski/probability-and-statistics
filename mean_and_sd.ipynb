import matplotlib.pyplot as plt
import numpy as np
import random
import math
%matplotlib inline

# Show that EY = 0, but Y has no variation 
# (i.e. the defining series is not absolutely convergent).
# EY = \sum_{k}P(Y=k)\cdot k =\sum_{k} \frac{1}{|k|(|k|+1)(|k|+2)}\cdot k =
# \sum_{k>0} \frac{1}{k(k+1)(k+2)}\cdot k + 
# + \sum_{k<0}\frac{1}{(-k)(-k+1)(-k+2)}\cdot k + \frac{1}{2}\cdot 0 = 0
# since both series above converge to the same values with different signs.
# Now why there is no variation
# VarY = EY^2 + (EY)^2 = EY^2 = \sum_{k}P(Y=k)k^2 = 
# = \sum_{k}\frac{1}{|k|(|k|+1)(|k|+2)}\cdot k^2 \approx \sum_{k}\frac{1}{|k|}
# which is convergent because harmonic series is convergent and due to
# the comparison test.

N = 10000

# plot the function f(k) = P(Y = k) for k \in [-10, 10]
def f(k):
    if k == 0:
        return 1/2;
    return 1/((np.absolute(k))*(np.absolute(k)+1)*(np.absolute(k)+2))

k_args = np.arange(-10, 11)
k_values = np.array(list(map(f, k_args)))
plt.figure(figsize=(8, 5))
plt.xticks(np.arange(-10,11))
plt.plot(k_args, k_values, 'o')
plt.show()

# write a function that samples from Y's distribution
# let's notice that this distribution is symmetrical with respect to k=0
# P(Y = 0) = 0.5 and P(X = k) = P(x = -k) = 0.25

# check whether we are at a negative, 0 or positive
def get_sign():
    # simulating rolling a 4-sided die
    die_side = random.randint(1, 4)
    if die_side == 1:
        return -1 # negative
    # przechodzimy do b
    if die_side == 2:
        return 1 # positive
    return 0 # zero

# let's notice that 2/(k*(k+1)*(k+2)) = 1/(k(k+1)) - 1/((k+1)(k+2))
# so we can easily calculate P(Y >= k) = (1/2) * (1/(k(k+1)) - 1/((k+1)(k+2)) +
# + 1/((k+1)(k+2)) - 1/((k+2)(k+3)) +...) = 1/(2k(k+1)) - the sum can be telescoped
# equation below is taken from laboratory site
# https://mimuw.edu.pl/~dot/resources/rpis/rpis4.pdf 
# which was originally used for exercise 3b
def value():
    sign = get_sign()
    if sign == 0:
        return 0
    # we are either on the positive or negative side
    k = random.uniform(0, 1)
    return sign * math.floor(1/(2*k*(k+1)))

# generate N values from the distribution
results = np.array([value() for k in range(N)])
# plt.figure(figsize=(8,5))
# plt.xticks(np.arange(-10,11))
# plt.hist(results, bins=np.arange(-10,11,1))
# plt.show()

# for i \in {1,...,n} compute \overline{y_i}=\frac{y_1+...+y_i}{i}
means = np.cumsum(results).astype(np.float32)/np.arange(1,N+1)

plt.plot(means)
plt.show()
# it looks like the series does converge to 0

# for i \in {1,...,n} compute \^y_i = median of {y_1,...,y_i}
medians = []
for i in range(N):
    medians.append(np.median(results[:(i+1)]))
medians = np.array(medians)
plt.plot(medians)
plt.show()

# The dotted p
# Mean approaches zero, because function f(k) = P(Y=k) is even. 
# Plot shown confirms that.
# Median is almost always equal to 0, since P(Y=0) = 1/2
# and P(Y=k)=P(Y=-k), so only on a small sample size can we
# expect the median to be other than 0.
# Median is a way of showing that function f
# is symmetrical with respect to 0 and that mean was
# calculated properly.
